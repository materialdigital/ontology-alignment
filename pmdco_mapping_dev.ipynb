{
  "cells": [
    {
      "cell_type": "code",
      "execution_count": null,
      "metadata": {
        "colab": {
          "base_uri": "https://localhost:8080/"
        },
        "id": "RaClpkEQb1A8",
        "outputId": "cdaf1f6e-77b3-427c-f079-2c13b7b5c7d6"
      },
      "outputs": [
        {
          "output_type": "stream",
          "name": "stdout",
          "text": [
            "Looking in indexes: https://pypi.org/simple, https://us-python.pkg.dev/colab-wheels/public/simple/\n",
            "Requirement already satisfied: rdflib in /usr/local/lib/python3.7/dist-packages (6.2.0)\n",
            "Requirement already satisfied: pyparsing in /usr/local/lib/python3.7/dist-packages (from rdflib) (3.0.9)\n",
            "Requirement already satisfied: importlib-metadata in /usr/local/lib/python3.7/dist-packages (from rdflib) (4.12.0)\n",
            "Requirement already satisfied: isodate in /usr/local/lib/python3.7/dist-packages (from rdflib) (0.6.1)\n",
            "Requirement already satisfied: setuptools in /usr/local/lib/python3.7/dist-packages (from rdflib) (57.4.0)\n",
            "Requirement already satisfied: typing-extensions>=3.6.4 in /usr/local/lib/python3.7/dist-packages (from importlib-metadata->rdflib) (4.1.1)\n",
            "Requirement already satisfied: zipp>=0.5 in /usr/local/lib/python3.7/dist-packages (from importlib-metadata->rdflib) (3.8.1)\n",
            "Requirement already satisfied: six in /usr/local/lib/python3.7/dist-packages (from isodate->rdflib) (1.15.0)\n",
            "Looking in indexes: https://pypi.org/simple, https://us-python.pkg.dev/colab-wheels/public/simple/\n",
            "Requirement already satisfied: owlrl in /usr/local/lib/python3.7/dist-packages (6.0.2)\n",
            "Requirement already satisfied: rdflib>=6.0.2 in /usr/local/lib/python3.7/dist-packages (from owlrl) (6.2.0)\n",
            "Requirement already satisfied: importlib-metadata in /usr/local/lib/python3.7/dist-packages (from rdflib>=6.0.2->owlrl) (4.12.0)\n",
            "Requirement already satisfied: pyparsing in /usr/local/lib/python3.7/dist-packages (from rdflib>=6.0.2->owlrl) (3.0.9)\n",
            "Requirement already satisfied: setuptools in /usr/local/lib/python3.7/dist-packages (from rdflib>=6.0.2->owlrl) (57.4.0)\n",
            "Requirement already satisfied: isodate in /usr/local/lib/python3.7/dist-packages (from rdflib>=6.0.2->owlrl) (0.6.1)\n",
            "Requirement already satisfied: zipp>=0.5 in /usr/local/lib/python3.7/dist-packages (from importlib-metadata->rdflib>=6.0.2->owlrl) (3.8.1)\n",
            "Requirement already satisfied: typing-extensions>=3.6.4 in /usr/local/lib/python3.7/dist-packages (from importlib-metadata->rdflib>=6.0.2->owlrl) (4.1.1)\n",
            "Requirement already satisfied: six in /usr/local/lib/python3.7/dist-packages (from isodate->rdflib>=6.0.2->owlrl) (1.15.0)\n"
          ]
        }
      ],
      "source": [
        "!pip install rdflib\n",
        "!pip install owlrl\n",
        "#!pip install Owlready2"
      ]
    },
    {
      "cell_type": "code",
      "execution_count": null,
      "metadata": {
        "id": "N7AsrflmbYm0"
      },
      "outputs": [],
      "source": [
        "from rdflib import Graph, Literal, URIRef, BNode\n",
        "from rdflib.term import Identifier\n",
        "from rdflib.collection import Collection\n",
        "from rdflib.namespace import RDF, RDFS, SKOS, XSD, OWL\n",
        "import rdflib.plugins.sparql.update\n",
        "import owlrl.RDFSClosure\n"
      ]
    },
    {
      "cell_type": "markdown",
      "metadata": {
        "id": "zRRRxSR7HXtT"
      },
      "source": [
        "# Data Resources\n"
      ]
    },
    {
      "cell_type": "code",
      "execution_count": null,
      "metadata": {
        "id": "I3w80XfEHbjh"
      },
      "outputs": [],
      "source": [
        "Egg_Ontology_BFO_CCO_URL=\"https://raw.githubusercontent.com/materialdigital/ontology-playground/main/example1-data/Egg_playground-BFO-CCO.ttl\" \n",
        "Egg_Ontology_EMMO_URL=\"https://raw.githubusercontent.com/materialdigital/ontology-playground/main/example1-data/Egg_playground-EMMO.ttl\"\n",
        "Egg_Ontology_PMDCO_URL=\"https://raw.githubusercontent.com/materialdigital/ontology-playground/main/example1-data/Egg_playground-PMDCO.ttl\"\n",
        "Egg_Ontology_PROVO_URL=\"https://raw.githubusercontent.com/materialdigital/ontology-playground/main/example1-data/Egg_playground-PROVO.ttl\"\n"
      ]
    },
    {
      "cell_type": "code",
      "execution_count": null,
      "metadata": {
        "colab": {
          "base_uri": "https://localhost:8080/"
        },
        "id": "q82LeTunIlZA",
        "outputId": "4aa0f6c3-c195-46de-8a76-74df6c0cf35d"
      },
      "outputs": [
        {
          "output_type": "stream",
          "name": "stdout",
          "text": [
            "491\n"
          ]
        }
      ],
      "source": [
        "g = Graph()\n",
        "g.parse(Egg_Ontology_BFO_CCO_URL, format='ttl')\n",
        "g.parse(Egg_Ontology_EMMO_URL, format='ttl')\n",
        "g.parse(Egg_Ontology_PMDCO_URL, format='ttl')\n",
        "g.parse(Egg_Ontology_PROVO_URL, format='ttl')\n",
        "print(len(g))"
      ]
    },
    {
      "cell_type": "code",
      "execution_count": null,
      "metadata": {
        "colab": {
          "base_uri": "https://localhost:8080/"
        },
        "id": "zhh3xHbxT8yc",
        "outputId": "797122c4-5c2c-4b94-efb0-cb89c828b203"
      },
      "outputs": [
        {
          "output_type": "stream",
          "name": "stdout",
          "text": [
            "rdf http://www.w3.org/1999/02/22-rdf-syntax-ns#\n",
            "rdfs http://www.w3.org/2000/01/rdf-schema#\n",
            "xsd http://www.w3.org/2001/XMLSchema#\n",
            "xml http://www.w3.org/XML/1998/namespace\n",
            "dc http://purl.org/dc/elements/1.1/\n",
            "cco http://www.ontologyrepository.com/CommonCoreOntologies/\n",
            "obo http://purl.obolibrary.org/obo/\n",
            "ccobfo_egg http://example.org/ccobfo#\n",
            "emmo_egg http://example.org/emmo#\n",
            "owl http://www.w3.org/2002/07/owl#\n",
            "prov http://www.w3.org/ns/prov#\n",
            "pmdco http://material-digital.de/pmdco#\n",
            "wikibase http://wikiba.se/ontology#\n",
            "pmdao_egg http://example.org/pmd#\n",
            "provo_egg http://example.org/provo#\n"
          ]
        }
      ],
      "source": [
        "for prefix, namespace in g.namespaces():\n",
        "  print(prefix, namespace)"
      ]
    },
    {
      "cell_type": "markdown",
      "metadata": {
        "id": "j4PPJwUPwpam"
      },
      "source": [
        "Example query for instances of Egg in the prov-O example\n"
      ]
    },
    {
      "cell_type": "code",
      "execution_count": null,
      "metadata": {
        "colab": {
          "base_uri": "https://localhost:8080/"
        },
        "id": "JMPdNzeVKyfZ",
        "outputId": "0e982f3e-f7dc-47b0-dbb3-c3bda213f6c9"
      },
      "outputs": [
        {
          "output_type": "stream",
          "name": "stdout",
          "text": [
            "http://example.org/provo#egg1 is and instance of Egg class defined in PROV ontology\n"
          ]
        }
      ],
      "source": [
        "query = \"\"\"\n",
        "SELECT ?s \n",
        "WHERE { \n",
        "    ?s a provo_egg:Egg\n",
        "}\n",
        "\"\"\"\n",
        "qres = g.query(query)\n",
        "for row in qres:\n",
        "    print(f\"{row.s} is and instance of Egg class defined in PROV ontology\")"
      ]
    },
    {
      "cell_type": "markdown",
      "metadata": {
        "id": "hv3Wo51cxSH0"
      },
      "source": [
        "We now activate the reasoner, so that also subclasses appear in the result."
      ]
    },
    {
      "cell_type": "code",
      "execution_count": null,
      "metadata": {
        "colab": {
          "base_uri": "https://localhost:8080/"
        },
        "id": "vILG35ngwMag",
        "outputId": "c3138cfe-48a3-458d-c029-ce82e5a5fbf8"
      },
      "outputs": [
        {
          "output_type": "stream",
          "name": "stdout",
          "text": [
            "491\n",
            "2307\n"
          ]
        }
      ],
      "source": [
        "print (len(g))\n",
        "rdfs = owlrl.CombinedClosure.RDFS_OWLRL_Semantics(g, False, False, False)\n",
        "rdfs.closure()\n",
        "rdfs.flush_stored_triples()\n",
        "print (len(g))"
      ]
    },
    {
      "cell_type": "markdown",
      "metadata": {
        "id": "7GDDHC2jxbHN"
      },
      "source": [
        "The same query now returns also the **boiled egg** and **easter egg** as instances of Egg in the Prov-O example."
      ]
    },
    {
      "cell_type": "code",
      "execution_count": null,
      "metadata": {
        "colab": {
          "base_uri": "https://localhost:8080/"
        },
        "id": "bGX875VDwS3h",
        "outputId": "082b43d7-29c2-4ffd-c41c-2e98647d4ccd"
      },
      "outputs": [
        {
          "output_type": "stream",
          "name": "stdout",
          "text": [
            "http://example.org/provo#egg1 is and instance of Egg class defined in PROV ontology\n",
            "http://example.org/provo#boiledEgg1 is and instance of Egg class defined in PROV ontology\n",
            "http://example.org/provo#easterEgg1 is and instance of Egg class defined in PROV ontology\n"
          ]
        }
      ],
      "source": [
        "qres = g.query(query)\n",
        "for row in qres:\n",
        "    print(f\"{row.s} is and instance of Egg class defined in PROV ontology\")"
      ]
    },
    {
      "cell_type": "markdown",
      "metadata": {
        "id": "a8wKJxdRAuqx"
      },
      "source": [
        "Lets now query for **prov:Entity**, which comprises the eggs as well as other domain items. "
      ]
    },
    {
      "cell_type": "code",
      "execution_count": null,
      "metadata": {
        "colab": {
          "base_uri": "https://localhost:8080/"
        },
        "id": "X8JL_4UpA4qk",
        "outputId": "fc1c46cd-ed31-4928-862e-0770164332ec"
      },
      "outputs": [
        {
          "output_type": "stream",
          "name": "stdout",
          "text": [
            "http://example.org/pmd#2e7012fc14764843a96b6e231fb67c53\n",
            "http://example.org/pmd#515c392524f74d14bfd4e24c64141095\n",
            "http://example.org/provo#egg1\n",
            "http://example.org/provo#cookingParams1\n",
            "http://example.org/provo#easterEgg1\n",
            "http://example.org/pmd#egg1\n",
            "http://example.org/pmd#boiledEgg1\n",
            "http://example.org/provo#boiledEgg1\n",
            "http://example.org/pmd#easterEgg1\n"
          ]
        }
      ],
      "source": [
        "query = \"\"\"\n",
        "\n",
        "SELECT ?s \n",
        "WHERE { \n",
        "    ?s a prov:Entity\n",
        "}\n",
        "\"\"\"\n",
        "qres = g.query(query)\n",
        "for row in qres:\n",
        "    print(f\"{row.s}\")"
      ]
    },
    {
      "cell_type": "markdown",
      "metadata": {
        "id": "cuhr5HrnAe3L"
      },
      "source": [
        "Lets now query for BFO objects (prefix obo), which only contains TapWater.  (see the Concept Board)\n"
      ]
    },
    {
      "cell_type": "code",
      "execution_count": null,
      "metadata": {
        "colab": {
          "base_uri": "https://localhost:8080/"
        },
        "id": "jYzEZKnR_bDf",
        "outputId": "89dde69c-552f-4600-dbd5-d1312bf13476"
      },
      "outputs": [
        {
          "output_type": "stream",
          "name": "stdout",
          "text": [
            "http://example.org/ccobfo#TapWater\n"
          ]
        }
      ],
      "source": [
        "query = \"\"\"\n",
        "\n",
        "SELECT ?s \n",
        "WHERE {   \n",
        "    ?s a obo:BFO_0000030\n",
        "}\n",
        "\"\"\"\n",
        "qres = g.query(query)\n",
        "for row in qres:\n",
        "    print(f\"{row.s}\")"
      ]
    },
    {
      "cell_type": "markdown",
      "metadata": {
        "id": "ETnnaQuuSXS9"
      },
      "source": [
        "Lets query for cco:Artifact.  (TapWater is not included because it is a obo:BFO_0000030 only)"
      ]
    },
    {
      "cell_type": "code",
      "execution_count": null,
      "metadata": {
        "id": "X0WN3AGII16I"
      },
      "outputs": [],
      "source": [
        "query = \"\"\"\n",
        "\n",
        "SELECT ?s \n",
        "WHERE { \n",
        "    ?s a cco:Artifact\n",
        "}\n",
        "\"\"\"\n",
        "qres = g.query(query)\n",
        "for row in qres:\n",
        "    print(f\"{row.s}\")"
      ]
    },
    {
      "cell_type": "markdown",
      "source": [
        "There were no artifacts found, because the data does not include the complete hierarchy of Egg -> 'Portion Of Food' -> Artifact -> bfo:object. The hierarchy is incomplete in the data. \n",
        "\n",
        "We have to include the hierarchy by adding the cco artifact ontology and hte BFO ontology. And do the reasoning again.\n"
      ],
      "metadata": {
        "id": "GiBjtfHmb0Ve"
      }
    },
    {
      "cell_type": "code",
      "source": [
        "BFO_URL=\"http://purl.obolibrary.org/obo/bfo/2020/bfo.owl\"\n",
        "g.parse(BFO_URL, format='xml')\n",
        "CCO_URL=\"https://raw.githubusercontent.com/CommonCoreOntology/CommonCoreOntologies/master/ArtifactOntology.ttl\"\n",
        "g.parse(CCO_URL, format='ttl')\n"
      ],
      "metadata": {
        "colab": {
          "base_uri": "https://localhost:8080/"
        },
        "id": "qDe4Kc5SbSuf",
        "outputId": "2a27e313-f524-4d02-9bca-6bfab74ef23f"
      },
      "execution_count": null,
      "outputs": [
        {
          "output_type": "execute_result",
          "data": {
            "text/plain": [
              "<Graph identifier=N61cee2854cb040f69b648a8b74ead1d3 (<class 'rdflib.graph.Graph'>)>"
            ]
          },
          "metadata": {},
          "execution_count": 12
        }
      ]
    },
    {
      "cell_type": "code",
      "source": [
        "print (len(g))\n",
        "rdfs = owlrl.CombinedClosure.RDFS_OWLRL_Semantics(g, False, False, False)\n",
        "rdfs.closure()\n",
        "rdfs.flush_stored_triples()\n",
        "print (len(g))"
      ],
      "metadata": {
        "colab": {
          "base_uri": "https://localhost:8080/"
        },
        "id": "Wubaeb7Ybeae",
        "outputId": "ba167c4f-18da-4d8d-f30c-6afbfe287be1"
      },
      "execution_count": null,
      "outputs": [
        {
          "output_type": "stream",
          "name": "stdout",
          "text": [
            "7077\n",
            "31528\n"
          ]
        }
      ]
    },
    {
      "cell_type": "code",
      "source": [
        "qres = g.query(query)\n",
        "for row in qres:\n",
        "    print(f\"{row.s}\")"
      ],
      "metadata": {
        "colab": {
          "base_uri": "https://localhost:8080/"
        },
        "id": "HF-tKCRKbWUu",
        "outputId": "1e35a4c3-a870-4b78-ab71-403f06ae2287"
      },
      "execution_count": null,
      "outputs": [
        {
          "output_type": "stream",
          "name": "stdout",
          "text": [
            "http://example.org/ccobfo#informationBearingEntity1\n",
            "http://example.org/ccobfo#informationBearingEntity3\n",
            "http://example.org/ccobfo#portionOfWater1\n",
            "http://example.org/ccobfo#portionOfWater2\n",
            "http://example.org/ccobfo#Egg1\n"
          ]
        }
      ]
    },
    {
      "cell_type": "markdown",
      "metadata": {
        "id": "XYRLEznuxrOk"
      },
      "source": [
        "So, wrapping things up until now ... \n",
        "There are two examples for modeling the cooking process.\n",
        "We can query for Eggs in each of the examples. With reasoning active, we can also collect instances of sublcasses of Egg-classes. \n",
        "\n",
        "We now want to query for eggs in both examples, but with only one query. \n",
        "This will not work, because there is no mapping between the classes.\n",
        "\n",
        "To include a mapping, we can load the PMDCO2 ontology. "
      ]
    },
    {
      "cell_type": "code",
      "execution_count": null,
      "metadata": {
        "colab": {
          "base_uri": "https://localhost:8080/"
        },
        "id": "wImdc2doCFQw",
        "outputId": "f97cb310-3a45-4c6b-c0c6-616f5f153547"
      },
      "outputs": [
        {
          "output_type": "execute_result",
          "data": {
            "text/plain": [
              "<Graph identifier=N61cee2854cb040f69b648a8b74ead1d3 (<class 'rdflib.graph.Graph'>)>"
            ]
          },
          "metadata": {},
          "execution_count": 15
        }
      ],
      "source": [
        "Mapping_URL=\"https://raw.githubusercontent.com/materialdigital/ontology-playground/main/example1-data/pmdco_bfo2-mapping.ttl\"\n",
        "g.parse(Mapping_URL, format='ttl')"
      ]
    },
    {
      "cell_type": "markdown",
      "metadata": {
        "id": "hZofXgr7Rj-Z"
      },
      "source": [
        "Now lets do the reasoning (takes one or two minutes)"
      ]
    },
    {
      "cell_type": "code",
      "execution_count": null,
      "metadata": {
        "colab": {
          "base_uri": "https://localhost:8080/"
        },
        "id": "T7sgprdlC-61",
        "outputId": "f24ce4a0-3790-46b4-82a3-4fd1233e856c"
      },
      "outputs": [
        {
          "output_type": "stream",
          "name": "stdout",
          "text": [
            "31689\n",
            "42833\n"
          ]
        }
      ],
      "source": [
        "print (len(g))\n",
        "rdfs = owlrl.CombinedClosure.RDFS_OWLRL_Semantics(g, False, False, False)\n",
        "rdfs.closure()\n",
        "rdfs.flush_stored_triples()\n",
        "print (len(g))"
      ]
    },
    {
      "cell_type": "markdown",
      "metadata": {
        "id": "lkDo5JwcR09M"
      },
      "source": [
        "We now query again for **provo entities**, and the result is also showing entities from the cco example (these were not explicitly modelled as provo entities)."
      ]
    },
    {
      "cell_type": "code",
      "execution_count": null,
      "metadata": {
        "colab": {
          "base_uri": "https://localhost:8080/"
        },
        "id": "NY1XuVRRC2b7",
        "outputId": "6d8659ac-9b31-4106-8241-645fabedf031"
      },
      "outputs": [
        {
          "output_type": "stream",
          "name": "stdout",
          "text": [
            "http://example.org/pmd#2e7012fc14764843a96b6e231fb67c53\n",
            "http://example.org/pmd#515c392524f74d14bfd4e24c64141095\n",
            "http://example.org/provo#egg1\n",
            "http://example.org/provo#cookingParams1\n",
            "http://example.org/provo#easterEgg1\n",
            "http://example.org/pmd#egg1\n",
            "http://example.org/pmd#boiledEgg1\n",
            "http://example.org/provo#boiledEgg1\n",
            "http://example.org/pmd#easterEgg1\n",
            "http://example.org/ccobfo#informationBearingEntity1\n",
            "http://example.org/ccobfo#informationBearingEntity3\n",
            "http://example.org/ccobfo#Egg1\n",
            "http://example.org/ccobfo#portionOfWater1\n",
            "http://example.org/ccobfo#portionOfWater2\n",
            "http://example.org/ccobfo#TapWater\n"
          ]
        }
      ],
      "source": [
        "query = \"\"\"\n",
        "SELECT ?s \n",
        "WHERE { \n",
        "    ?s a prov:Entity\n",
        "}\n",
        "\"\"\"\n",
        "qres = g.query(query)\n",
        "for row in qres:\n",
        "    print(f\"{row.s}\")"
      ]
    },
    {
      "cell_type": "markdown",
      "source": [
        "If we query for cco:Artifact we get the same result. Because ther is a mapping between cco:Artifact and prov:Entity. The PMDCO entities were found because pmdco:Object is subclass of prov:Entity.\n",
        "\n",
        "Because of the mapping, we can substitute prov:Entity with cco:Artifact and receive the same result.\n"
      ],
      "metadata": {
        "id": "7X_2O6sLd2mc"
      }
    },
    {
      "cell_type": "code",
      "source": [
        "query = \"\"\"\n",
        "SELECT ?s \n",
        "WHERE { \n",
        "    ?s a cco:Artifact \n",
        "}\n",
        "\"\"\"\n",
        "qres = g.query(query)\n",
        "for row in qres:\n",
        "    print(f\"{row.s}\")"
      ],
      "metadata": {
        "colab": {
          "base_uri": "https://localhost:8080/"
        },
        "id": "6oaW1zQidPVU",
        "outputId": "96b710dc-cda0-4d84-94fb-9a0bc8854f06"
      },
      "execution_count": null,
      "outputs": [
        {
          "output_type": "stream",
          "name": "stdout",
          "text": [
            "http://example.org/ccobfo#informationBearingEntity1\n",
            "http://example.org/ccobfo#informationBearingEntity3\n",
            "http://example.org/ccobfo#portionOfWater1\n",
            "http://example.org/ccobfo#portionOfWater2\n",
            "http://example.org/ccobfo#Egg1\n",
            "http://example.org/pmd#easterEgg1\n",
            "http://example.org/pmd#egg1\n",
            "http://example.org/provo#egg1\n",
            "http://example.org/provo#cookingParams1\n",
            "http://example.org/provo#easterEgg1\n",
            "http://example.org/provo#boiledEgg1\n",
            "http://example.org/pmd#boiledEgg1\n",
            "http://example.org/pmd#2e7012fc14764843a96b6e231fb67c53\n",
            "http://example.org/pmd#515c392524f74d14bfd4e24c64141095\n",
            "http://example.org/ccobfo#TapWater\n"
          ]
        }
      ]
    },
    {
      "cell_type": "markdown",
      "source": [
        "OK. so far. it seems to work great. \n",
        "Lets now work on the competency questions.\n",
        "\n",
        "----------------------\n",
        "\n",
        "# Competency questions:\n",
        "https://docs.google.com/document/d/186rP8P1GpUQ59VUKMyq9c7GaVdp6BYcWQSVbRQRy0SE/edit#heading=h.2xbuv3z0nlkf\n",
        "\n",
        "## (1) Welche Materialien sind in den Daten vorhanden?"
      ],
      "metadata": {
        "id": "CfAeJQq2iUQX"
      }
    },
    {
      "cell_type": "code",
      "source": [
        "# todo"
      ],
      "metadata": {
        "id": "gbnBpAdkjEfL"
      },
      "execution_count": null,
      "outputs": []
    },
    {
      "cell_type": "markdown",
      "source": [
        "## (2) Welche Eigenschaften haben die Materialien (oder ein bestimmtes)?\n",
        "    - z.B. welche Masse haben die vorhandenen Samples?\n",
        "    - z.B. welche Größe haben die beteiligten gekochten Eier?\n",
        "\n"
      ],
      "metadata": {
        "id": "JEk4HFMbjQ9G"
      }
    },
    {
      "cell_type": "code",
      "source": [
        "# todo"
      ],
      "metadata": {
        "id": "970oTmndjXAs"
      },
      "execution_count": null,
      "outputs": []
    },
    {
      "cell_type": "markdown",
      "source": [
        "##  (3) Welche Prozesse sind in den Daten vorhanden?\n",
        "\n",
        "Expectation: queries for prov:Activity, bfo:process (obo:BFO_0000015), cco:Act, emmo:Process (http://emmo.info/emmo#EMMO_43e9a05d_98af_41b4_92f6_00f79a09bfce> ) lead to the same results."
      ],
      "metadata": {
        "id": "Ha0EopHhjX19"
      }
    },
    {
      "cell_type": "code",
      "source": [
        "query = \"\"\"\n",
        "SELECT ?s \n",
        "WHERE { \n",
        "    ?s a prov:Activity\n",
        "}\n",
        "\"\"\"\n",
        "qres = g.query(query)\n",
        "for row in qres:\n",
        "    print(f\"{row.s}\")"
      ],
      "metadata": {
        "colab": {
          "base_uri": "https://localhost:8080/"
        },
        "id": "uLYlJOLJjZeq",
        "outputId": "f16202fb-ecfc-4a62-dcc1-97379798196c"
      },
      "execution_count": null,
      "outputs": [
        {
          "output_type": "stream",
          "name": "stdout",
          "text": [
            "http://example.org/provo#meCookingAnEgg1\n",
            "http://example.org/provo#mePaintingAnEgg1\n",
            "http://example.org/pmd#meCookingAnEgg1\n",
            "http://example.org/pmd#mePaintingAnEgg1\n",
            "http://example.org/emmo#EggBoilingProcess1\n",
            "http://example.org/emmo#Egg1\n"
          ]
        }
      ]
    },
    {
      "cell_type": "code",
      "source": [
        "query = \"\"\"\n",
        "SELECT ?s \n",
        "WHERE { \n",
        "    ?s a obo:BFO_0000015\n",
        "}\n",
        "\"\"\"\n",
        "qres = g.query(query)\n",
        "for row in qres:\n",
        "    print(f\"{row.s}\")"
      ],
      "metadata": {
        "colab": {
          "base_uri": "https://localhost:8080/"
        },
        "id": "rapRm4kRlGu-",
        "outputId": "9fcd481d-7995-4ad1-fdc4-449d4e7a6a43"
      },
      "execution_count": null,
      "outputs": [
        {
          "output_type": "stream",
          "name": "stdout",
          "text": [
            "http://example.org/emmo#Egg1\n",
            "http://example.org/provo#mePaintingAnEgg1\n",
            "http://example.org/emmo#EggBoilingProcess1\n",
            "http://example.org/pmd#meCookingAnEgg1\n",
            "http://example.org/pmd#mePaintingAnEgg1\n",
            "http://example.org/provo#meCookingAnEgg1\n"
          ]
        }
      ]
    },
    {
      "cell_type": "code",
      "source": [
        "query = \"\"\"\n",
        "SELECT ?s \n",
        "WHERE { \n",
        "    ?s a cco:Act\n",
        "}\n",
        "\"\"\"\n",
        "qres = g.query(query)\n",
        "for row in qres:\n",
        "    print(f\"{row.s}\")"
      ],
      "metadata": {
        "id": "6QyDdeQdkPcM"
      },
      "execution_count": null,
      "outputs": []
    },
    {
      "cell_type": "code",
      "source": [
        "query = \"\"\"\n",
        "SELECT ?s \n",
        "WHERE { \n",
        "    ?s a <http://emmo.info/emmo#EMMO_43e9a05d_98af_41b4_92f6_00f79a09bfce> \n",
        "}\n",
        "\"\"\"\n",
        "qres = g.query(query)\n",
        "for row in qres:\n",
        "    print(f\"{row.s}\")"
      ],
      "metadata": {
        "colab": {
          "base_uri": "https://localhost:8080/"
        },
        "id": "HEAyU1A4kT1n",
        "outputId": "81468d05-ec3d-42d0-97b5-f5020449792c"
      },
      "execution_count": null,
      "outputs": [
        {
          "output_type": "stream",
          "name": "stdout",
          "text": [
            "http://example.org/emmo#EggBoilingProcess1\n",
            "http://example.org/emmo#Egg1\n",
            "http://example.org/provo#meCookingAnEgg1\n",
            "http://example.org/provo#mePaintingAnEgg1\n",
            "http://example.org/pmd#mePaintingAnEgg1\n",
            "http://example.org/pmd#meCookingAnEgg1\n"
          ]
        }
      ]
    },
    {
      "cell_type": "markdown",
      "source": [
        "We can see: the mapping works well for all examples except \"cco:Act\" .\n",
        "\n",
        "To make \"cco:Act\" work, we need the cco Event Ontology. \n",
        "(don't forget the reasoning )"
      ],
      "metadata": {
        "id": "PCO2U2x1lMZq"
      }
    },
    {
      "cell_type": "code",
      "source": [
        "Mapping_URL=\"https://raw.githubusercontent.com/CommonCoreOntology/CommonCoreOntologies/master/EventOntology.ttl\"\n",
        "g.parse(Mapping_URL, format='ttl')"
      ],
      "metadata": {
        "colab": {
          "base_uri": "https://localhost:8080/"
        },
        "id": "E9gizpmamJZT",
        "outputId": "872d36f5-e5aa-4e40-a99b-fc0c341965c8"
      },
      "execution_count": null,
      "outputs": [
        {
          "output_type": "execute_result",
          "data": {
            "text/plain": [
              "<Graph identifier=N61cee2854cb040f69b648a8b74ead1d3 (<class 'rdflib.graph.Graph'>)>"
            ]
          },
          "metadata": {},
          "execution_count": 25
        }
      ]
    },
    {
      "cell_type": "code",
      "source": [
        "print (len(g))\n",
        "rdfs = owlrl.CombinedClosure.RDFS_OWLRL_Semantics(g, False, False, False)\n",
        "rdfs.closure()\n",
        "rdfs.flush_stored_triples()\n",
        "print (len(g))"
      ],
      "metadata": {
        "colab": {
          "base_uri": "https://localhost:8080/"
        },
        "id": "ZfdDGxsomRks",
        "outputId": "4301c14b-5dda-490a-b524-1e782fa9e7ea"
      },
      "execution_count": null,
      "outputs": [
        {
          "output_type": "stream",
          "name": "stdout",
          "text": [
            "44990\n",
            "59285\n"
          ]
        }
      ]
    },
    {
      "cell_type": "code",
      "source": [
        "query = \"\"\"\n",
        "SELECT ?s \n",
        "WHERE { \n",
        "    ?s a cco:Act\n",
        "}\n",
        "\"\"\"\n",
        "qres = g.query(query)\n",
        "for row in qres:\n",
        "    print(f\"{row.s}\")"
      ],
      "metadata": {
        "colab": {
          "base_uri": "https://localhost:8080/"
        },
        "id": "T9kleyflmiD-",
        "outputId": "79635603-b8b9-45e1-aad4-ba641db18122"
      },
      "execution_count": null,
      "outputs": [
        {
          "output_type": "stream",
          "name": "stdout",
          "text": [
            "http://example.org/ccobfo#HeatUpWater\n",
            "http://example.org/ccobfo#RetrieveEgg\n",
            "http://example.org/ccobfo#PutPotOnHotPlate\n",
            "http://example.org/ccobfo#CookEgg\n",
            "http://example.org/ccobfo#PutEggInWater\n",
            "http://example.org/ccobfo#PotFill\n",
            "http://example.org/ccobfo#ActOfBoilingAnEgg\n",
            "http://example.org/ccobfo#CookWater\n",
            "http://example.org/ccobfo#QuenchEgg\n",
            "http://example.org/ccobfo#actOfPaintingAnEgg1\n"
          ]
        }
      ]
    },
    {
      "cell_type": "markdown",
      "source": [
        "We can see, that cco:Act is resulting only in cco related instances. That's because there is no direct mapping between cco:Act and the other ontologies. \n",
        "cco:Act is subclass of bfo:process and only this is mapped to the other ontologies.\n",
        "\n",
        "That means, cco:Act seems not to be a right candidate for an \"overarching\" query.\n",
        "\n",
        "We should discuss this in detail."
      ],
      "metadata": {
        "id": "36uq1Kc7nRx7"
      }
    },
    {
      "cell_type": "markdown",
      "source": [
        "## (4) Welche Prozessschritte (Teilprozesse) gibt es?"
      ],
      "metadata": {
        "id": "HDmjNZLAoDcS"
      }
    },
    {
      "cell_type": "code",
      "source": [
        "# todo"
      ],
      "metadata": {
        "id": "y86e8GAHoJVP"
      },
      "execution_count": null,
      "outputs": []
    },
    {
      "cell_type": "markdown",
      "source": [
        "usw. "
      ],
      "metadata": {
        "id": "BlijqaigoKLp"
      }
    }
  ],
  "metadata": {
    "colab": {
      "collapsed_sections": [],
      "provenance": []
    },
    "kernelspec": {
      "display_name": "Python 3",
      "name": "python3"
    },
    "language_info": {
      "name": "python"
    }
  },
  "nbformat": 4,
  "nbformat_minor": 0
}